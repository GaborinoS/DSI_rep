{
 "cells": [
  {
   "cell_type": "markdown",
   "metadata": {
    "id": "bPW7lnQgygRa"
   },
   "source": [
    "Run Query: Find all the tracks whose name starts with 'All'. **How many total records there are for this query?**"
   ]
  },
  {
   "cell_type": "code",
   "execution_count": null,
   "metadata": {
    "id": "z53a0pcIyifp"
   },
   "outputs": [],
   "source": [
    "SELECT  *\n",
    "FROM tracks\n",
    "WHERE name LIKE 'All%';\n",
    "\n",
    "\n",
    "SELECT  count(*)\n",
    "FROM tracks\n",
    "WHERE name LIKE 'All%';"
   ]
  },
  {
   "cell_type": "markdown",
   "metadata": {
    "id": "58RIwz86yivs"
   },
   "source": [
    "Run Query: Find all the customer emails that start with \"J\" and are from gmail.com.  "
   ]
  },
  {
   "cell_type": "code",
   "execution_count": null,
   "metadata": {
    "id": "b16LHsVKzBKS"
   },
   "outputs": [],
   "source": [
    "SELECT  *\n",
    "FROM customers\n",
    "WHERE email LIKE 'j%_gmail.com%';"
   ]
  },
  {
   "cell_type": "markdown",
   "metadata": {},
   "source": [
    "Run Query: Find the albums with 12 or more tracks."
   ]
  },
  {
   "cell_type": "code",
   "execution_count": null,
   "metadata": {},
   "outputs": [],
   "source": [
    "SELECT  title, count(t.name)\n",
    "FROM albums join tracks t on albums.id = t.album_id\n",
    "GROUP BY t.album_id, title\n",
    "HAVING count(t.name) >= 12;"
   ]
  },
  {
   "cell_type": "markdown",
   "metadata": {
    "id": "jDxz4RSezQir"
   },
   "source": [
    "Create a list of album titles and the unit prices for the artist \"Audioslave\". "
   ]
  },
  {
   "cell_type": "code",
   "execution_count": null,
   "metadata": {},
   "outputs": [],
   "source": [
    "SELECT title, sum(t.unit_price)\n",
    "FROM albums join tracks t on albums.id = t.album_id join artists a on a.id = albums.artist_id\n",
    "WHERE a.name = 'Audioslave'\n",
    "GROUP BY title, t.unit_price;"
   ]
  },
  {
   "cell_type": "markdown",
   "metadata": {
    "id": "6TVnINglAGsv"
   },
   "source": [
    "Using a subquery, find the names of all the tracks for the album \"Californication\"."
   ]
  },
  {
   "cell_type": "code",
   "execution_count": null,
   "metadata": {
    "id": "dUppFfETAM9U"
   },
   "outputs": [],
   "source": [
    "SELECT name\n",
    "FROM tracks\n",
    "where tracks.album_id = (select albums.id\n",
    "                         from albums\n",
    "                         where albums.title ='Californication')\n",
    "\n"
   ]
  },
  {
   "cell_type": "markdown",
   "metadata": {
    "id": "vulChgqDANLU"
   },
   "source": [
    "Find the total number of invoices for each customer along with the customer's full name, city and email."
   ]
  },
  {
   "cell_type": "code",
   "execution_count": null,
   "metadata": {
    "id": "sGRBCv0lAOsq"
   },
   "outputs": [],
   "source": [
    "SELECT c.first_name, c.last_name, c.city, c.email,count(invoices.id)\n",
    "FROM invoices join customers c on c.id = invoices.customer_id\n",
    "GROUP BY c.id;"
   ]
  },
  {
   "cell_type": "markdown",
   "metadata": {
    "id": "lyJ4BHyIAO2v"
   },
   "source": [
    "After running the query described above, what is the email address of the 5th person, František Wichterlová?"
   ]
  },
  {
   "cell_type": "code",
   "execution_count": null,
   "metadata": {},
   "outputs": [],
   "source": [
    "SELECT email\n",
    "FROM\n",
    "    (SELECT c.first_name, c.last_name, c.city, c.email,count(invoices.id)\n",
    "    FROM invoices join customers c on c.id = invoices.customer_id\n",
    "    GROUP BY c.id)\n",
    "as subq\n",
    "where last_name ='Wichterlová' and first_name='František':\n"
   ]
  },
  {
   "cell_type": "markdown",
   "metadata": {
    "id": "7goiyepjAR7T"
   },
   "source": [
    "Retrieve the track name, album, artistID, and trackID for all the albums."
   ]
  },
  {
   "cell_type": "code",
   "execution_count": null,
   "metadata": {
    "id": "9rPwWSkFATpd"
   },
   "outputs": [],
   "source": [
    "SELECT t.name as trackname ,title as albumname,albums.artist_id  as artistID, t.id as trackID\n",
    "FROM albums join tracks t on albums.id = t.album_id;"
   ]
  },
  {
   "cell_type": "markdown",
   "metadata": {
    "id": "V0CwhMAbAVqr"
   },
   "source": [
    "What is the song title of trackID 12 from the \"For Those About to Rock We Salute You\" ?"
   ]
  },
  {
   "cell_type": "code",
   "execution_count": null,
   "metadata": {
    "id": "BYzFVF9zAYhV"
   },
   "outputs": [],
   "source": [
    "SELECT trackname\n",
    "FROM\n",
    "    (SELECT t.name as trackname ,title as albumname, artist_id  as artistID, t.id as trackID\n",
    "    FROM albums join tracks t on albums.id = t.album_id\n",
    "    )\n",
    "as subq\n",
    "where trackid = 12 and albumname = 'For Those About To Rock We Salute You';"
   ]
  },
  {
   "cell_type": "markdown",
   "metadata": {
    "id": "qiIaQQX1AYrq"
   },
   "source": [
    "Retrieve a list with the managers last name, and the last name of the employees who report to him or her. **Who are the reports for the manager named Mitchell?**"
   ]
  },
  {
   "cell_type": "code",
   "execution_count": null,
   "metadata": {
    "id": "AQZBCthEAftB"
   },
   "outputs": [],
   "source": [
    "SELECT m.last_name as manager, e.last_name as Employee\n",
    "FROM  employees e left join employees m ON m.id = e.reports_to;\n"
   ]
  },
  {
   "cell_type": "code",
   "execution_count": null,
   "metadata": {},
   "outputs": [],
   "source": [
    "\n",
    "SELECT subq.employee\n",
    "FROM\n",
    "    (SELECT m.last_name as manager, e.last_name as Employee\n",
    "    FROM  employees e left join employees m ON m.id = e.reports_to\n",
    "    )\n",
    "as subq\n",
    "where subq.manager ='Mitchell'"
   ]
  },
  {
   "cell_type": "markdown",
   "metadata": {
    "id": "6gZBptiOAh2c"
   },
   "source": [
    "Find the name and ID of the artists who do not have albums. "
   ]
  },
  {
   "cell_type": "code",
   "execution_count": null,
   "metadata": {
    "id": "IgbisBHkAkU4"
   },
   "outputs": [],
   "source": [
    "SELECT a.name, a.id\n",
    "FROM albums full join artists a on a.id = albums.artist_id\n",
    "WHERE albums.id is null;\n"
   ]
  },
  {
   "cell_type": "markdown",
   "metadata": {
    "id": "lpETQyAhAkgL"
   },
   "source": [
    "Use a UNION to create a list of all the employee's and customer's first names and last names ordered by the last name in descending order. **Determine what is the last name of the 6th record** Remember to order things in descending order to be sure to get the correct answer."
   ]
  },
  {
   "cell_type": "code",
   "execution_count": null,
   "metadata": {
    "id": "zLWDnZ5AArVK"
   },
   "outputs": [],
   "source": [
    "SELECT emp.last_name, emp.first_name\n",
    "FROM employees emp\n",
    "union\n",
    "select c.last_name,c.first_name\n",
    "from customers c\n",
    "order by last_name desc;"
   ]
  },
  {
   "cell_type": "markdown",
   "metadata": {},
   "source": [
    "ANSWER: Taylor,Mark"
   ]
  },
  {
   "cell_type": "markdown",
   "metadata": {
    "id": "E-HmEIsZArpl"
   },
   "source": [
    "See if there are any customers who have a different city listed in their billing city versus their customer city."
   ]
  },
  {
   "cell_type": "code",
   "execution_count": null,
   "metadata": {
    "id": "Bi4tcpV-AuJM"
   },
   "outputs": [],
   "source": [
    "SELECT customers.first_name,customers.last_name,customers.city,i.billing_city\n",
    "FROM customers join invoices i on customers.id = i.customer_id\n",
    "WHERE customers.city != i.billing_city;"
   ]
  }
 ],
 "metadata": {
  "colab": {
   "collapsed_sections": [],
   "name": "Assignment-5.ipynb",
   "provenance": []
  },
  "kernelspec": {
   "display_name": "Python 3 (ipykernel)",
   "language": "python",
   "name": "python3"
  },
  "language_info": {
   "codemirror_mode": {
    "name": "ipython",
    "version": 3
   },
   "file_extension": ".py",
   "mimetype": "text/x-python",
   "name": "python",
   "nbconvert_exporter": "python",
   "pygments_lexer": "ipython3",
   "version": "3.9.12"
  }
 },
 "nbformat": 4,
 "nbformat_minor": 4
}
