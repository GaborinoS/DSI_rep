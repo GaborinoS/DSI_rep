{
 "cells": [
  {
   "cell_type": "code",
   "execution_count": 27,
   "id": "5c466af8-ab86-4692-8a78-6597842c1b98",
   "metadata": {},
   "outputs": [],
   "source": [
    "import psycopg2\n",
    "import requests\n",
    "import json\n",
    "import os\n",
    "from psycopg2.extras import Json\n",
    "\n",
    "#--------------------Review\n",
    "\n",
    "url = \"https://api.nytimes.com/svc/mostpopular/v2/viewed/30.json?api-key=eX4qBYG8AUGOanGSvqUGJFCi5hUoxSSB\"\n",
    "\n",
    "payload={}\n",
    "headers = {\n",
    "  'Accept': 'application/json'\n",
    "}\n",
    "\n",
    "response_viewed = requests.request(\"GET\", url, headers=headers, data=payload)\n",
    "\n",
    "#---------------------emailed\n",
    "url = \"https://api.nytimes.com/svc/mostpopular/v2/emailed/30.json?api-key=eX4qBYG8AUGOanGSvqUGJFCi5hUoxSSB\"\n",
    "\n",
    "payload={}\n",
    "headers = {\n",
    "  'Accept': 'application/json'\n",
    "}\n",
    "\n",
    "response_email = requests.request(\"GET\", url, headers=headers, data=payload)\n",
    "\n",
    "url = \"https://api.nytimes.com/svc/movies/v2/reviews/all.json?offset=0&order=by-publication-date&api-key=eX4qBYG8AUGOanGSvqUGJFCi5hUoxSSB\"\n",
    "\n",
    "payload={}\n",
    "headers = {\n",
    "    'Accept': 'application/json'\n",
    "}\n",
    "\n",
    "response_movie = requests.request(\"GET\", url, headers=headers, data=payload)\n",
    "\n"
   ]
  },
  {
   "cell_type": "code",
   "execution_count": 28,
   "outputs": [
    {
     "data": {
      "text/plain": "[]"
     },
     "execution_count": 28,
     "metadata": {},
     "output_type": "execute_result"
    }
   ],
   "source": [
    "#-----Password\n",
    "\n",
    "os.listdir()"
   ],
   "metadata": {
    "collapsed": false
   }
  },
  {
   "cell_type": "code",
   "execution_count": 10,
   "id": "9c084fee-a32f-42b0-83b2-0024ab548ac0",
   "metadata": {},
   "outputs": [],
   "source": [
    "data_viewed = response_viewed.json()\n",
    "data_email = response_email.json()\n",
    "data_movies = response_movie.json()\n",
    "#data"
   ]
  },
  {
   "cell_type": "code",
   "execution_count": 11,
   "id": "36d76282-b6be-4c11-843e-032ff6a25ab7",
   "metadata": {},
   "outputs": [],
   "source": [
    "data_viewed_res = data_viewed['results']\n",
    "\n",
    "data_email_res = data_email['results']\n",
    "\n",
    "data_movies_res = data_movies['results']"
   ]
  },
  {
   "cell_type": "code",
   "execution_count": 12,
   "id": "ae58854d-f37b-47c6-93fc-60a6385afa9d",
   "metadata": {},
   "outputs": [
    {
     "name": "stdout",
     "output_type": "stream",
     "text": [
      "con done\n"
     ]
    }
   ],
   "source": [
    "#------------------------SQL Connection\n",
    "\n",
    "conn = psycopg2.connect(host=\"mds-dsi-db.postgres.database.azure.com\",\n",
    "                        port=\"5432\",\n",
    "                        database=\"nyt_import\",\n",
    "                        user=\"ds22m017\",\n",
    "                        password=\"SchachingeR14\",\n",
    "                        connect_timeout=3)\n",
    "cur = conn.cursor()\n",
    "\n",
    "print(\"con done\")"
   ]
  },
  {
   "cell_type": "code",
   "execution_count": 13,
   "id": "5d5fc91e-7dee-4ce8-8bc3-dd5bc31178e5",
   "metadata": {},
   "outputs": [
    {
     "name": "stdout",
     "output_type": "stream",
     "text": [
      "create done\n"
     ]
    }
   ],
   "source": [
    "#-----------------------CREATE TABLES\n",
    "\n",
    "\n",
    "tables = ['ds22m017_emailed','ds22m017_viewed','ds22m017_movies']\n",
    "for table in tables:\n",
    "    cur.execute(f\"DROP TABLE IF EXISTS {table} CASCADE;\")\n",
    "    cur.execute(f\"CREATE TABLE IF NOT EXISTS {table} (id serial, body JSONB);\")\n",
    "conn.commit()\n",
    "\n",
    "\n",
    "print(\"create done\")"
   ]
  },
  {
   "cell_type": "code",
   "execution_count": 14,
   "id": "42c624fe-ca6d-4b57-8628-0e9f1258dd7c",
   "metadata": {},
   "outputs": [],
   "source": [
    "\n",
    "for res in data_email_res:\n",
    "    val=Json(res)\n",
    "    cur.execute(f\"INSERT INTO ds22m017_emailed (body) VALUES (%s)\", [val])\n",
    "conn.commit() \n",
    "    \n",
    "\n",
    "for res in data_viewed_res:\n",
    "    val=Json(res)\n",
    "    cur.execute(f\"INSERT INTO ds22m017_viewed (body) VALUES (%s)\", [val])\n",
    "conn.commit()\n",
    "\n",
    "for res in data_movies_res:\n",
    "    val=Json(res)\n",
    "    cur.execute(f\"INSERT INTO ds22m017_movies (body) VALUES (%s)\", [val])\n",
    "conn.commit()\n",
    "    "
   ]
  }
 ],
 "metadata": {
  "kernelspec": {
   "display_name": "Python 3 (ipykernel)",
   "language": "python",
   "name": "python3"
  },
  "language_info": {
   "codemirror_mode": {
    "name": "ipython",
    "version": 3
   },
   "file_extension": ".py",
   "mimetype": "text/x-python",
   "name": "python",
   "nbconvert_exporter": "python",
   "pygments_lexer": "ipython3",
   "version": "3.9.12"
  }
 },
 "nbformat": 4,
 "nbformat_minor": 5
}
