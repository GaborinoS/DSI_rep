{
 "cells": [
  {
   "cell_type": "code",
   "execution_count": 2,
   "id": "5c466af8-ab86-4692-8a78-6597842c1b98",
   "metadata": {},
   "outputs": [
    {
     "name": "stdout",
     "output_type": "stream",
     "text": [
      "API done\n"
     ]
    }
   ],
   "source": [
    "import psycopg2\n",
    "import requests\n",
    "import json\n",
    "import os\n",
    "from psycopg2.extras import Json\n",
    "\n",
    "#--------------------Review\n",
    "\n",
    "url = \"https://api.nytimes.com/svc/mostpopular/v2/viewed/30.json?api-key=eX4qBYG8AUGOanGSvqUGJFCi5hUoxSSB\"\n",
    "\n",
    "payload={}\n",
    "headers = {\n",
    "  'Accept': 'application/json'\n",
    "}\n",
    "\n",
    "response_viewed = requests.request(\"GET\", url, headers=headers, data=payload)\n",
    "\n",
    "#---------------------emailed\n",
    "url = \"https://api.nytimes.com/svc/mostpopular/v2/emailed/30.json?api-key=eX4qBYG8AUGOanGSvqUGJFCi5hUoxSSB\"\n",
    "\n",
    "payload={}\n",
    "headers = {\n",
    "  'Accept': 'application/json'\n",
    "}\n",
    "\n",
    "response_email = requests.request(\"GET\", url, headers=headers, data=payload)\n",
    "\n",
    "url = \"https://api.nytimes.com/svc/movies/v2/reviews/all.json?offset=0&order=by-publication-date&api-key=eX4qBYG8AUGOanGSvqUGJFCi5hUoxSSB\"\n",
    "\n",
    "payload={}\n",
    "headers = {\n",
    "    'Accept': 'application/json'\n",
    "}\n",
    "\n",
    "response_movie = requests.request(\"GET\", url, headers=headers, data=payload)\n",
    "\n",
    "print(\"API done\")"
   ]
  },
  {
   "cell_type": "code",
   "execution_count": 5,
   "id": "e2c543d7",
   "metadata": {
    "collapsed": false,
    "jupyter": {
     "outputs_hidden": false
    }
   },
   "outputs": [
    {
     "data": {
      "text/plain": [
       "<Response [503]>"
      ]
     },
     "execution_count": 5,
     "metadata": {},
     "output_type": "execute_result"
    }
   ],
   "source": [
    "#-----Password hidden\n",
    "f=open(\"PW.txt\", \"r\") \n",
    "userPw=[f.readline()]\n",
    "response_movie"
   ]
  },
  {
   "cell_type": "code",
   "execution_count": 4,
   "id": "9c084fee-a32f-42b0-83b2-0024ab548ac0",
   "metadata": {},
   "outputs": [
    {
     "ename": "JSONDecodeError",
     "evalue": "Expecting value: line 1 column 1 (char 0)",
     "output_type": "error",
     "traceback": [
      "\u001b[1;31m---------------------------------------------------------------------------\u001b[0m",
      "\u001b[1;31mJSONDecodeError\u001b[0m                           Traceback (most recent call last)",
      "Input \u001b[1;32mIn [4]\u001b[0m, in \u001b[0;36m<cell line: 3>\u001b[1;34m()\u001b[0m\n\u001b[0;32m      1\u001b[0m data_viewed \u001b[38;5;241m=\u001b[39m response_viewed\u001b[38;5;241m.\u001b[39mjson()\n\u001b[0;32m      2\u001b[0m data_email \u001b[38;5;241m=\u001b[39m response_email\u001b[38;5;241m.\u001b[39mjson()\n\u001b[1;32m----> 3\u001b[0m data_movies \u001b[38;5;241m=\u001b[39m \u001b[43mresponse_movie\u001b[49m\u001b[38;5;241;43m.\u001b[39;49m\u001b[43mjson\u001b[49m\u001b[43m(\u001b[49m\u001b[43m)\u001b[49m\n",
      "File \u001b[1;32m~\\anaconda3\\lib\\site-packages\\requests\\models.py:899\u001b[0m, in \u001b[0;36mResponse.json\u001b[1;34m(self, **kwargs)\u001b[0m\n\u001b[0;32m    897\u001b[0m \u001b[38;5;28;01mif\u001b[39;00m encoding \u001b[38;5;129;01mis\u001b[39;00m \u001b[38;5;129;01mnot\u001b[39;00m \u001b[38;5;28;01mNone\u001b[39;00m:\n\u001b[0;32m    898\u001b[0m     \u001b[38;5;28;01mtry\u001b[39;00m:\n\u001b[1;32m--> 899\u001b[0m         \u001b[38;5;28;01mreturn\u001b[39;00m complexjson\u001b[38;5;241m.\u001b[39mloads(\n\u001b[0;32m    900\u001b[0m             \u001b[38;5;28mself\u001b[39m\u001b[38;5;241m.\u001b[39mcontent\u001b[38;5;241m.\u001b[39mdecode(encoding), \u001b[38;5;241m*\u001b[39m\u001b[38;5;241m*\u001b[39mkwargs\n\u001b[0;32m    901\u001b[0m         )\n\u001b[0;32m    902\u001b[0m     \u001b[38;5;28;01mexcept\u001b[39;00m \u001b[38;5;167;01mUnicodeDecodeError\u001b[39;00m:\n\u001b[0;32m    903\u001b[0m         \u001b[38;5;66;03m# Wrong UTF codec detected; usually because it's not UTF-8\u001b[39;00m\n\u001b[0;32m    904\u001b[0m         \u001b[38;5;66;03m# but some other 8-bit codec.  This is an RFC violation,\u001b[39;00m\n\u001b[0;32m    905\u001b[0m         \u001b[38;5;66;03m# and the server didn't bother to tell us what codec *was*\u001b[39;00m\n\u001b[0;32m    906\u001b[0m         \u001b[38;5;66;03m# used.\u001b[39;00m\n\u001b[0;32m    907\u001b[0m         \u001b[38;5;28;01mpass\u001b[39;00m\n",
      "File \u001b[1;32m~\\anaconda3\\lib\\json\\__init__.py:346\u001b[0m, in \u001b[0;36mloads\u001b[1;34m(s, cls, object_hook, parse_float, parse_int, parse_constant, object_pairs_hook, **kw)\u001b[0m\n\u001b[0;32m    341\u001b[0m     s \u001b[38;5;241m=\u001b[39m s\u001b[38;5;241m.\u001b[39mdecode(detect_encoding(s), \u001b[38;5;124m'\u001b[39m\u001b[38;5;124msurrogatepass\u001b[39m\u001b[38;5;124m'\u001b[39m)\n\u001b[0;32m    343\u001b[0m \u001b[38;5;28;01mif\u001b[39;00m (\u001b[38;5;28mcls\u001b[39m \u001b[38;5;129;01mis\u001b[39;00m \u001b[38;5;28;01mNone\u001b[39;00m \u001b[38;5;129;01mand\u001b[39;00m object_hook \u001b[38;5;129;01mis\u001b[39;00m \u001b[38;5;28;01mNone\u001b[39;00m \u001b[38;5;129;01mand\u001b[39;00m\n\u001b[0;32m    344\u001b[0m         parse_int \u001b[38;5;129;01mis\u001b[39;00m \u001b[38;5;28;01mNone\u001b[39;00m \u001b[38;5;129;01mand\u001b[39;00m parse_float \u001b[38;5;129;01mis\u001b[39;00m \u001b[38;5;28;01mNone\u001b[39;00m \u001b[38;5;129;01mand\u001b[39;00m\n\u001b[0;32m    345\u001b[0m         parse_constant \u001b[38;5;129;01mis\u001b[39;00m \u001b[38;5;28;01mNone\u001b[39;00m \u001b[38;5;129;01mand\u001b[39;00m object_pairs_hook \u001b[38;5;129;01mis\u001b[39;00m \u001b[38;5;28;01mNone\u001b[39;00m \u001b[38;5;129;01mand\u001b[39;00m \u001b[38;5;129;01mnot\u001b[39;00m kw):\n\u001b[1;32m--> 346\u001b[0m     \u001b[38;5;28;01mreturn\u001b[39;00m \u001b[43m_default_decoder\u001b[49m\u001b[38;5;241;43m.\u001b[39;49m\u001b[43mdecode\u001b[49m\u001b[43m(\u001b[49m\u001b[43ms\u001b[49m\u001b[43m)\u001b[49m\n\u001b[0;32m    347\u001b[0m \u001b[38;5;28;01mif\u001b[39;00m \u001b[38;5;28mcls\u001b[39m \u001b[38;5;129;01mis\u001b[39;00m \u001b[38;5;28;01mNone\u001b[39;00m:\n\u001b[0;32m    348\u001b[0m     \u001b[38;5;28mcls\u001b[39m \u001b[38;5;241m=\u001b[39m JSONDecoder\n",
      "File \u001b[1;32m~\\anaconda3\\lib\\json\\decoder.py:337\u001b[0m, in \u001b[0;36mJSONDecoder.decode\u001b[1;34m(self, s, _w)\u001b[0m\n\u001b[0;32m    332\u001b[0m \u001b[38;5;28;01mdef\u001b[39;00m \u001b[38;5;21mdecode\u001b[39m(\u001b[38;5;28mself\u001b[39m, s, _w\u001b[38;5;241m=\u001b[39mWHITESPACE\u001b[38;5;241m.\u001b[39mmatch):\n\u001b[0;32m    333\u001b[0m     \u001b[38;5;124;03m\"\"\"Return the Python representation of ``s`` (a ``str`` instance\u001b[39;00m\n\u001b[0;32m    334\u001b[0m \u001b[38;5;124;03m    containing a JSON document).\u001b[39;00m\n\u001b[0;32m    335\u001b[0m \n\u001b[0;32m    336\u001b[0m \u001b[38;5;124;03m    \"\"\"\u001b[39;00m\n\u001b[1;32m--> 337\u001b[0m     obj, end \u001b[38;5;241m=\u001b[39m \u001b[38;5;28;43mself\u001b[39;49m\u001b[38;5;241;43m.\u001b[39;49m\u001b[43mraw_decode\u001b[49m\u001b[43m(\u001b[49m\u001b[43ms\u001b[49m\u001b[43m,\u001b[49m\u001b[43m \u001b[49m\u001b[43midx\u001b[49m\u001b[38;5;241;43m=\u001b[39;49m\u001b[43m_w\u001b[49m\u001b[43m(\u001b[49m\u001b[43ms\u001b[49m\u001b[43m,\u001b[49m\u001b[43m \u001b[49m\u001b[38;5;241;43m0\u001b[39;49m\u001b[43m)\u001b[49m\u001b[38;5;241;43m.\u001b[39;49m\u001b[43mend\u001b[49m\u001b[43m(\u001b[49m\u001b[43m)\u001b[49m\u001b[43m)\u001b[49m\n\u001b[0;32m    338\u001b[0m     end \u001b[38;5;241m=\u001b[39m _w(s, end)\u001b[38;5;241m.\u001b[39mend()\n\u001b[0;32m    339\u001b[0m     \u001b[38;5;28;01mif\u001b[39;00m end \u001b[38;5;241m!=\u001b[39m \u001b[38;5;28mlen\u001b[39m(s):\n",
      "File \u001b[1;32m~\\anaconda3\\lib\\json\\decoder.py:355\u001b[0m, in \u001b[0;36mJSONDecoder.raw_decode\u001b[1;34m(self, s, idx)\u001b[0m\n\u001b[0;32m    353\u001b[0m     obj, end \u001b[38;5;241m=\u001b[39m \u001b[38;5;28mself\u001b[39m\u001b[38;5;241m.\u001b[39mscan_once(s, idx)\n\u001b[0;32m    354\u001b[0m \u001b[38;5;28;01mexcept\u001b[39;00m \u001b[38;5;167;01mStopIteration\u001b[39;00m \u001b[38;5;28;01mas\u001b[39;00m err:\n\u001b[1;32m--> 355\u001b[0m     \u001b[38;5;28;01mraise\u001b[39;00m JSONDecodeError(\u001b[38;5;124m\"\u001b[39m\u001b[38;5;124mExpecting value\u001b[39m\u001b[38;5;124m\"\u001b[39m, s, err\u001b[38;5;241m.\u001b[39mvalue) \u001b[38;5;28;01mfrom\u001b[39;00m \u001b[38;5;28mNone\u001b[39m\n\u001b[0;32m    356\u001b[0m \u001b[38;5;28;01mreturn\u001b[39;00m obj, end\n",
      "\u001b[1;31mJSONDecodeError\u001b[0m: Expecting value: line 1 column 1 (char 0)"
     ]
    }
   ],
   "source": [
    "data_viewed = response_viewed.json()\n",
    "data_email = response_email.json()\n",
    "data_movies = response_movie.json()\n",
    "#data"
   ]
  },
  {
   "cell_type": "code",
   "execution_count": null,
   "id": "36d76282-b6be-4c11-843e-032ff6a25ab7",
   "metadata": {},
   "outputs": [],
   "source": [
    "data_viewed_res = data_viewed['results']\n",
    "\n",
    "data_email_res = data_email['results']\n",
    "\n",
    "data_movies_res = data_movies['results']"
   ]
  },
  {
   "cell_type": "code",
   "execution_count": null,
   "id": "ae58854d-f37b-47c6-93fc-60a6385afa9d",
   "metadata": {},
   "outputs": [],
   "source": [
    "#------------------------SQL Connection\n",
    "\n",
    "conn = psycopg2.connect(host=\"mds-dsi-db.postgres.database.azure.com\",\n",
    "                        port=\"5432\",\n",
    "                        database=\"nyt_import\",\n",
    "                        user=\"ds22m017\",\n",
    "                        password=str(userPw[0]),\n",
    "                        connect_timeout=3)\n",
    "cur = conn.cursor()\n",
    "\n",
    "print(\"con done\")"
   ]
  },
  {
   "cell_type": "code",
   "execution_count": 13,
   "id": "5d5fc91e-7dee-4ce8-8bc3-dd5bc31178e5",
   "metadata": {},
   "outputs": [
    {
     "name": "stdout",
     "output_type": "stream",
     "text": [
      "create done\n"
     ]
    }
   ],
   "source": [
    "#-----------------------CREATE TABLES\n",
    "\n",
    "\n",
    "tables = ['ds22m017_emailed','ds22m017_viewed','ds22m017_movies']\n",
    "for table in tables:\n",
    "    cur.execute(f\"DROP TABLE IF EXISTS {table} CASCADE;\")\n",
    "    cur.execute(f\"CREATE TABLE IF NOT EXISTS {table} (id serial, body JSONB);\")\n",
    "conn.commit()\n",
    "\n",
    "\n",
    "print(\"create done\")"
   ]
  },
  {
   "cell_type": "code",
   "execution_count": 14,
   "id": "42c624fe-ca6d-4b57-8628-0e9f1258dd7c",
   "metadata": {},
   "outputs": [],
   "source": [
    "\n",
    "for res in data_email_res:\n",
    "    val=Json(res)\n",
    "    cur.execute(f\"INSERT INTO ds22m017_emailed (body) VALUES (%s)\", [val])\n",
    "conn.commit() \n",
    "    \n",
    "\n",
    "for res in data_viewed_res:\n",
    "    val=Json(res)\n",
    "    cur.execute(f\"INSERT INTO ds22m017_viewed (body) VALUES (%s)\", [val])\n",
    "conn.commit()\n",
    "\n",
    "for res in data_movies_res:\n",
    "    val=Json(res)\n",
    "    cur.execute(f\"INSERT INTO ds22m017_movies (body) VALUES (%s)\", [val])\n",
    "conn.commit()\n",
    "    "
   ]
  }
 ],
 "metadata": {
  "kernelspec": {
   "display_name": "Python 3 (ipykernel)",
   "language": "python",
   "name": "python3"
  },
  "language_info": {
   "codemirror_mode": {
    "name": "ipython",
    "version": 3
   },
   "file_extension": ".py",
   "mimetype": "text/x-python",
   "name": "python",
   "nbconvert_exporter": "python",
   "pygments_lexer": "ipython3",
   "version": "3.9.12"
  }
 },
 "nbformat": 4,
 "nbformat_minor": 5
}
